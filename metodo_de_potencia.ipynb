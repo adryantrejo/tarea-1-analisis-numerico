{
 "cells": [
  {
   "cell_type": "code",
   "execution_count": 1,
   "metadata": {},
   "outputs": [],
   "source": [
    "import numpy as np "
   ]
  },
  {
   "cell_type": "code",
   "execution_count": null,
   "metadata": {},
   "outputs": [],
   "source": [
    "#El primer parametro 'A' recibe una matriz cuadrada declarada como np.array\n",
    "#El segundo parametro 'x' es el vector inicial, la importancia de su elección es practicamente nula\n",
    "#El tercer parametro 'tol' define la tolerancia de error con la que trabajara el método\n",
    "#El cuarto parametro 'iterMax' define cual será el número máximo de iteracciones.\n",
    "def metodoPotencia(A, x, tol, iterMax):\n",
    "\n",
    "    #Se normaliza el vector ingresado\n",
    "    x = x / np.linalg.norm(x, ord=np.inf)\n",
    "\n",
    "    for i in range (0,iterMax):\n",
    "\n",
    "        y = np.dot(A,x) #Se calcula Ax^(k)\n",
    "        lambda_v = np.linalg.norm(y, ord=np.inf) #Se toma la norma infinito de Ax^(k) y se toma como el valor propio\n",
    "\n",
    "        if (lambda_v == 0): \n",
    "            raise ValueError(\"A tiene el valor propio 0, seleccione un nuevo vector y ejecute nuevamente. Ultimo vector calculado: {y / lambda_v}\")\n",
    "\n",
    "        x_nuevo = y / lambda_v #Se toma x^(k+1) como el vector normalizado resultado de Ax^(k)\n",
    "\n",
    "        #Se comprueba si el actual vector es lo suficientemente bueno\n",
    "        if np.linalg.norm(x - x_nuevo, ord=np.inf) < tol:\n",
    "            return lambda_v, x_nuevo\n",
    "        \n",
    "        x = x_nuevo\n",
    "    \n",
    "    raise ValueError(\"No converge tras el número máximo de iteracciones\")\n",
    "    \n"
   ]
  },
  {
   "cell_type": "code",
   "execution_count": null,
   "metadata": {},
   "outputs": [
    {
     "name": "stdout",
     "output_type": "stream",
     "text": [
      "Caso 1:\n",
      "Mayor valor propio: 5.0 \n",
      "Vector propio asociado: [0.33333333 1.        ]\n",
      "\n"
     ]
    }
   ],
   "source": [
    "#Caso 1\n",
    "lambda_0 = 0\n",
    "A = np.array( [ [2,1], [3,4] ])\n",
    "x_0 = np.array ( [1,1])\n",
    "lambda_0, x_0 = metodoPotencia(A,x_0, tol=1e-256, iterMax= 10000) \n",
    "print(f\"Caso 1:\\nMayor valor propio: {lambda_0} \\nVector propio asociado: {x_0}\\n\")"
   ]
  },
  {
   "cell_type": "code",
   "execution_count": null,
   "metadata": {},
   "outputs": [
    {
     "name": "stdout",
     "output_type": "stream",
     "text": [
      "Caso 2:\n",
      "Mayor valor propio: 6.0 \n",
      "Vector propio asociado: [0.66666667 1.        ]\n",
      "\n"
     ]
    }
   ],
   "source": [
    "#Caso 2\n",
    "lambda_0 = 0\n",
    "A = np.array( [ [3,2], [3,4] ])\n",
    "x_0 = np.array ( [1,1])\n",
    "lambda_0, x_0 = metodoPotencia(A,x_0, tol=1e-256, iterMax = 10000)\n",
    "print(f\"Caso 2:\\nMayor valor propio: {lambda_0} \\nVector propio asociado: {x_0}\\n\")\n"
   ]
  },
  {
   "cell_type": "code",
   "execution_count": null,
   "metadata": {},
   "outputs": [
    {
     "name": "stdout",
     "output_type": "stream",
     "text": [
      "Caso 3:\n",
      "Mayor valor propio: 5.0 \n",
      "Vector propio asociado: [1. 1.]\n",
      "\n"
     ]
    }
   ],
   "source": [
    "#Caso 3\n",
    "lambda_0 = 0\n",
    "A = np.array( [ [2,3], [1,4] ])\n",
    "x_0 = np.array ( [1,1])\n",
    "lambda_0, x_0 = metodoPotencia(A,x_0, tol=1e-256, iterMax = 10000)\n",
    "print(f\"Caso 3:\\nMayor valor propio: {lambda_0} \\nVector propio asociado: {x_0}\\n\")"
   ]
  },
  {
   "cell_type": "code",
   "execution_count": null,
   "metadata": {},
   "outputs": [
    {
     "name": "stdout",
     "output_type": "stream",
     "text": [
      "Caso 4:\n",
      "Mayor valor propio: 4.507018655879326 \n",
      "Vector propio asociado: [0.77812384 0.72889481 1.        ]\n",
      "\n"
     ]
    }
   ],
   "source": [
    "#Caso 4\n",
    "lambda_0 = 0\n",
    "A = np.array( [ [1,1,2], [2,1,1], [1,1,3] ])\n",
    "x_0 = np.array ( [1,1,1])\n",
    "lambda_0, x_0 = metodoPotencia(A,x_0, tol=1e-8, iterMax = 10000) \n",
    "print(f\"Caso 4:\\nMayor valor propio: {lambda_0} \\nVector propio asociado: {x_0}\\n\")"
   ]
  },
  {
   "cell_type": "code",
   "execution_count": null,
   "metadata": {},
   "outputs": [
    {
     "name": "stdout",
     "output_type": "stream",
     "text": [
      "Caso 5:\n",
      "Mayor valor propio: 4.048917366327883 \n",
      "Vector propio asociado: [0.69202147 1.         0.55495813]\n",
      "\n"
     ]
    }
   ],
   "source": [
    "#Caso 5\n",
    "A = np.array( [ [1,1,2], [2,1,3], [1,1,1] ])\n",
    "x_0 = np.array ( [1,1,1])\n",
    "lambda_0, x_0 = metodoPotencia(A,x_0, tol=1e-8, iterMax = 10000)\n",
    "print(f\"Caso 5:\\nMayor valor propio: {lambda_0} \\nVector propio asociado: {x_0}\\n\")\n"
   ]
  },
  {
   "cell_type": "code",
   "execution_count": null,
   "metadata": {},
   "outputs": [
    {
     "name": "stdout",
     "output_type": "stream",
     "text": [
      "Caso 6:\n",
      "Mayor valor propio: 4.124885419586723 \n",
      "Vector propio asociado: [1.         0.90539067 0.60974737]\n",
      "\n"
     ]
    }
   ],
   "source": [
    "#Caso 6\n",
    "A = np.array( [ [2,1,2], [1,1,3], [1,1,1] ])\n",
    "x_0 = np.array ( [1,1,1])\n",
    "lambda_0, x_0 = metodoPotencia(A,x_0, tol=1e-8, iterMax = 10000)\n",
    "print(f\"Caso 6:\\nMayor valor propio: {lambda_0} \\nVector propio asociado: {x_0}\\n\")\n"
   ]
  },
  {
   "cell_type": "code",
   "execution_count": null,
   "metadata": {},
   "outputs": [
    {
     "name": "stdout",
     "output_type": "stream",
     "text": [
      "Caso 7:\n",
      "Mayor valor propio: 6.634534483709928 \n",
      "Vector propio asociado: [0.60704873 0.54782057 0.87261643 1.        ]\n",
      "\n"
     ]
    }
   ],
   "source": [
    "#Caso 7\n",
    "A = np.array( [ [1,1,1,2], [2,1,1,1], [3,2,1,2], [2,1,1,4] ])\n",
    "x_0 = np.array ( [1,1,1,1])\n",
    "lambda_0, x_0 = metodoPotencia(A,x_0, tol=1e-8, iterMax = 10000)\n",
    "print(f\"Caso 7:\\nMayor valor propio: {lambda_0} \\nVector propio asociado: {x_0}\\n\")\n"
   ]
  },
  {
   "cell_type": "code",
   "execution_count": null,
   "metadata": {},
   "outputs": [
    {
     "name": "stdout",
     "output_type": "stream",
     "text": [
      "Caso 8:\n",
      "Mayor valor propio: 6.827262268723903 \n",
      "Vector propio asociado: [0.6883438  0.56058521 0.88998944 1.        ]\n",
      "\n"
     ]
    }
   ],
   "source": [
    "#Caso 8\n",
    "A = np.array( [ [1,2,1,2], [2,1,1,1], [3,2,1,2], [2,1,1,4] ])\n",
    "x_0 = np.array ( [1,1,1,1])\n",
    "lambda_0, x_0 = metodoPotencia(A,x_0, tol=1e-8, iterMax = 10000)\n",
    "print(f\"Caso 8:\\nMayor valor propio: {lambda_0} \\nVector propio asociado: {x_0}\\n\")"
   ]
  },
  {
   "cell_type": "markdown",
   "metadata": {},
   "source": [
    "**Comentarios**.\n",
    "La implementación del método es bastante sencilla y para matrices pequeñas con entradas simples el método converge de manera estable, para dimensiones y matrices más complejas el error empieza a crecer. A pesar de que solo encuentra un valor propio, encuentra el dominante, que es aquel que es mayor que los demás en valor absoluto. Adicionalmente el método encuentra su vector propio asociado, lo cuál puede ser una ventaja bastante grande para ciertos usos. "
   ]
  }
 ],
 "metadata": {
  "kernelspec": {
   "display_name": "base",
   "language": "python",
   "name": "python3"
  },
  "language_info": {
   "codemirror_mode": {
    "name": "ipython",
    "version": 3
   },
   "file_extension": ".py",
   "mimetype": "text/x-python",
   "name": "python",
   "nbconvert_exporter": "python",
   "pygments_lexer": "ipython3",
   "version": "3.12.7"
  }
 },
 "nbformat": 4,
 "nbformat_minor": 2
}
