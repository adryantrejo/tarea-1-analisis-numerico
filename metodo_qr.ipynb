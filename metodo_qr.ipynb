{
 "cells": [
  {
   "cell_type": "code",
   "execution_count": null,
   "metadata": {},
   "outputs": [],
   "source": [
    "#Ejecutar este bloque primero y luego el bloque de descomposicionQR() y metodoQR()\n",
    "import numpy as np"
   ]
  },
  {
   "cell_type": "code",
   "execution_count": 3,
   "metadata": {},
   "outputs": [],
   "source": [
    "#Para ejecutar la función se debe pasar la matriz A. \n",
    "#Retorna dos matrices, Q y R, con los vectores ortonormales de A y los coeficientes de proyección respectivamente\n",
    "def descomposicionQR(A):\n",
    "    \n",
    "    n = A.shape[0]\n",
    "    \n",
    "    #Se inicializan Q y R con ceros.\n",
    "    Q = np.zeros( (n,n), dtype=float ) #Q recibira los vectores ortonormales de A\n",
    "    R = np.zeros( (n,n), dtype=float ) #R recibira los coeficientes de proyeccion \n",
    "\n",
    "    for i in range(n):\n",
    "\n",
    "        v = A[:, i]\n",
    "\n",
    "        #Se ortogonalizan los vectores de A\n",
    "        for j in range(i):\n",
    "            \n",
    "           \n",
    "            R[j,i] = np.dot(Q[:,j],v) #Se guardan por encima de la diagonal los coeficientes de proyeccion \n",
    "            v = v - R[j, i]*Q[:,j] #Se calcula la proyección \n",
    "\n",
    "        R[i,i] = np.linalg.norm(v) #Se guardan en la diagonal las normas de los vectores ortogonales de A\n",
    "        Q[:,i] = v / R[i,i]  #Se guarda en Q los vectores ortonormales de A\n",
    "\n",
    "    return Q, R"
   ]
  },
  {
   "cell_type": "code",
   "execution_count": 4,
   "metadata": {},
   "outputs": [],
   "source": [
    "#Para ejecutar la función se debe pasar la matriz A. \n",
    "#Retorna un vector con los valores propios de A\n",
    "#Hay un número maximo de iteraciones y de tolerancia por defecto, pero pueden ser modificados al llamar la función\n",
    "def metodoQR(A, tol=1e-8, max_iter = 10000):\n",
    "    n = A.shape[0]\n",
    "\n",
    "    A_k = A.copy()\n",
    "\n",
    "    for _ in range(max_iter):\n",
    "        Q, R = descomposicionQR(A_k) #Se factoriza A como QR\n",
    "\n",
    "        A_k = np.dot(R,Q) #Se reescribe A como RQ\n",
    "        if np.sum(np.abs(np.tril(A_k, k=-1))) < tol:\n",
    "            return np.diagonal(A_k) #Si los elementos por debajo de la diagonal son lo suficientemente pequeños que retorne la diagonal\n",
    "        \n",
    "    return np.diagonal(A_k)"
   ]
  },
  {
   "cell_type": "code",
   "execution_count": 7,
   "metadata": {},
   "outputs": [
    {
     "name": "stdout",
     "output_type": "stream",
     "text": [
      "[5. 1.]\n"
     ]
    }
   ],
   "source": [
    "#Caso 1\n",
    "A = np.array( [ [2,1], [3,4]  ])\n",
    "eigenvalues = metodoQR(A)\n",
    "print(eigenvalues)"
   ]
  },
  {
   "cell_type": "code",
   "execution_count": 8,
   "metadata": {},
   "outputs": [
    {
     "name": "stdout",
     "output_type": "stream",
     "text": [
      "[6. 1.]\n"
     ]
    }
   ],
   "source": [
    "#Caso 2\n",
    "A = np.array( [ [3,2], [3,4]  ])\n",
    "eigenvalues = metodoQR(A)\n",
    "print(eigenvalues)"
   ]
  },
  {
   "cell_type": "code",
   "execution_count": 9,
   "metadata": {},
   "outputs": [
    {
     "name": "stdout",
     "output_type": "stream",
     "text": [
      "[5. 1.]\n"
     ]
    }
   ],
   "source": [
    "#Caso 3\n",
    "A = np.array( [ [2,3], [1,4]  ])\n",
    "eigenvalues = metodoQR(A)\n",
    "print(eigenvalues)"
   ]
  },
  {
   "cell_type": "code",
   "execution_count": 10,
   "metadata": {},
   "outputs": [
    {
     "name": "stdout",
     "output_type": "stream",
     "text": [
      "[ 4.50701864  0.77812384 -0.28514249]\n"
     ]
    }
   ],
   "source": [
    "#Caso 4\n",
    "A = np.array( [ [1,1,2], [2,1,1], [1,1,3]  ])\n",
    "eigenvalues = metodoQR(A)\n",
    "print(eigenvalues)"
   ]
  },
  {
   "cell_type": "code",
   "execution_count": null,
   "metadata": {},
   "outputs": [
    {
     "name": "stdout",
     "output_type": "stream",
     "text": [
      "[ 4.04891734 -0.69202147 -0.35689586]\n"
     ]
    }
   ],
   "source": [
    "#Caso 5\n",
    "A = np.array( [ [1,1,2], [2,1,3], [1,1,1]  ])\n",
    "eigenvalues = metodoQR(A)\n",
    "print(eigenvalues)"
   ]
  },
  {
   "cell_type": "code",
   "execution_count": 13,
   "metadata": {},
   "outputs": [
    {
     "name": "stdout",
     "output_type": "stream",
     "text": [
      "[ 4.12488542 -0.76155719  0.63667177]\n"
     ]
    }
   ],
   "source": [
    "#Caso 6\n",
    "A = np.array( [ [2,1,2], [1,1,3], [1,1,1]  ])\n",
    "eigenvalues = metodoQR(A)\n",
    "print(eigenvalues)"
   ]
  },
  {
   "cell_type": "code",
   "execution_count": 12,
   "metadata": {},
   "outputs": [
    {
     "name": "stdout",
     "output_type": "stream",
     "text": [
      "[ 6.63453446  1.50856334 -0.73564154 -0.40745627]\n"
     ]
    }
   ],
   "source": [
    "#Caso 7\n",
    "A = np.array( [ [1,1,1,2], [2,1,1,1], [3,2,1,2], [2,1,1,4]  ])\n",
    "eigenvalues = metodoQR(A)\n",
    "print(eigenvalues)"
   ]
  },
  {
   "cell_type": "code",
   "execution_count": 14,
   "metadata": {},
   "outputs": [
    {
     "name": "stdout",
     "output_type": "stream",
     "text": [
      "[ 6.82726225  1.72811591 -1.08793492 -0.46744323]\n"
     ]
    }
   ],
   "source": [
    "#Caso 8\n",
    "A = np.array( [ [1,2,1,2], [2,1,1,1], [3,2,1,2], [2,1,1,4]  ])\n",
    "eigenvalues = metodoQR(A)\n",
    "print(eigenvalues)"
   ]
  },
  {
   "cell_type": "markdown",
   "metadata": {},
   "source": [
    "**Comentarios**.\n",
    "El método converge con bastante facilidad, pero su implementación es un poco más extensa que el método de la potencia dado el uso de Gran-Schmidt para factorizar la matriz, sin embargo el método arroja todos los valores propios, haciendolo extremadamente util, a pesar de no encontrar ninguno de los vectores propios asociados, forzando a tener que implementar un método extra para hallarlos."
   ]
  }
 ],
 "metadata": {
  "kernelspec": {
   "display_name": "base",
   "language": "python",
   "name": "python3"
  },
  "language_info": {
   "codemirror_mode": {
    "name": "ipython",
    "version": 3
   },
   "file_extension": ".py",
   "mimetype": "text/x-python",
   "name": "python",
   "nbconvert_exporter": "python",
   "pygments_lexer": "ipython3",
   "version": "3.12.7"
  }
 },
 "nbformat": 4,
 "nbformat_minor": 2
}
